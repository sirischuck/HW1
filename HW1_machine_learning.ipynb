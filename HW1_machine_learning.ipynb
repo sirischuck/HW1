{
  "nbformat": 4,
  "nbformat_minor": 0,
  "metadata": {
    "colab": {
      "provenance": [],
      "collapsed_sections": [],
      "authorship_tag": "ABX9TyPpWBDRgcVpI0XlT+VxUY/d",
      "include_colab_link": true
    },
    "kernelspec": {
      "name": "python3",
      "display_name": "Python 3"
    },
    "language_info": {
      "name": "python"
    }
  },
  "cells": [
    {
      "cell_type": "markdown",
      "metadata": {
        "id": "view-in-github",
        "colab_type": "text"
      },
      "source": [
        "<a href=\"https://colab.research.google.com/github/sirischuck/HW1/blob/main/HW1_machine_learning.ipynb\" target=\"_parent\"><img src=\"https://colab.research.google.com/assets/colab-badge.svg\" alt=\"Open In Colab\"/></a>"
      ]
    },
    {
      "cell_type": "markdown",
      "source": [],
      "metadata": {
        "id": "Ild22JeFlogg"
      }
    },
    {
      "cell_type": "code",
      "execution_count": 140,
      "metadata": {
        "id": "3NNptVF_iini",
        "colab": {
          "base_uri": "https://localhost:8080/",
          "height": 548
        },
        "outputId": "85d2cdbc-1f9e-4f98-afa0-280dd586a0b6"
      },
      "outputs": [
        {
          "output_type": "display_data",
          "data": {
            "text/plain": [
              "<Figure size 432x288 with 1 Axes>"
            ],
            "image/png": "[encoded data removed]"
          },
          "metadata": {
            "needs_background": "light"
          }
        },
        {
          "output_type": "stream",
          "name": "stdout",
          "text": [
            "The MSE over the training data is 2.747798860642571e-26\n"
          ]
        },
        {
          "output_type": "display_data",
          "data": {
            "text/plain": [
              "<Figure size 432x288 with 1 Axes>"
            ],
            "image/png": "[encoded data removed]"
          },
          "metadata": {
            "needs_background": "light"
          }
        },
        {
          "output_type": "stream",
          "name": "stdout",
          "text": [
            "The MSE over the test data is 3.235585380752034e-26\n"
          ]
        }
      ],
      "source": [
        "import numpy as np\n",
        "import time\n",
        "import matplotlib.pyplot as plt\n",
        "\n",
        "\n",
        "\n",
        "x_train= np.load('/content/drive/MyDrive/x_train.npy')\n",
        "y_train= np.load('/content/drive/MyDrive/y_train.npy')\n",
        "\n",
        "\n",
        "\n",
        "#passes the training data through the basis functions x,x^2...x^5\n",
        "xTrainBasis = np.array([[x**i for i in range(0,6)] for x in x_train[:,0]])\n",
        "\n",
        "\n",
        "#calulate the transpose once and save it because it's used twice for the normal equation\n",
        "xTrainBasisT=np.transpose(xTrainBasis)\n",
        "\n",
        "#big ugly normal equation written out in python\n",
        "theta= np.dot(np.dot(np.linalg.inv(np.dot(xTrainBasisT,xTrainBasis)),xTrainBasisT),y_train)\n",
        "\n",
        "#calculates the prediction for the y test values based on the model\n",
        "yTrainPred=np.dot(xTrainBasis,theta)\n",
        "\n",
        "#plot the prediction and the actual test data\n",
        "plt.plot(x_train,y_train, 'y*', markersize=9, label= 'Training Labels')\n",
        "plt.plot(x_train,yTrainPred,'b.', label = 'Training Predictions')\n",
        "plt.legend(loc='lower right')\n",
        "plt.show()\n",
        "\n",
        "\n",
        "#calculate and show the MSE between the training data and the model\n",
        "error=0\n",
        "for (yG,y) in zip(y_train,yTrainPred):\n",
        "  error= error + (yG-y)**2\n",
        "print('The MSE over the training data is', error/len(yTrainPred))\n",
        "\n",
        "\n",
        "#load the test data\n",
        "x_test=np.load('/content/drive/MyDrive/x_test.npy')\n",
        "y_test=np.load('/content/drive/MyDrive/y_test.npy')\n",
        "\n",
        "\n",
        "#generate the test predictions\n",
        "yTestPred=np.array([np.polyval(np.flipud(theta), x) for x in x_test])\n",
        "\n",
        "#plot the test predictions and actual test data\n",
        "plt.plot(x_test,y_test,'y^', markersize=8, label='Test Labels')\n",
        "plt.plot(x_test,yTestPred,'b.', label = 'Test Predictions')\n",
        "plt.legend(loc='lower right')\n",
        "plt.show()\n",
        "\n",
        "#calculate the MSE between the training data and the model\n",
        "error=0\n",
        "for (y,yP) in zip(y_test,yTestPred):\n",
        "  error= error + (yP-y)**2\n",
        "print('The MSE over the test data is', error[0]/len(yTestPred))\n",
        "\n",
        "\n",
        "\n",
        "\n",
        "\n",
        " "
      ]
    },
    {
      "cell_type": "markdown",
      "source": [
        "Obviously The Relationship given is not a Linear relationship, and because there is only one feature, the natural way to express this relation is with basis transformations. The Basis functions that jumped out at me were the polynomials, in this case up to degree 5, because the function trends upwards over the range and has 4 obvious critical points where the derivative is zero. When I implemented this solution, one thing I forgot about for a lot of the process was the existence of the x^0 or the bias term. I was very confused as to why my model wasn't at all matching my data for a while before I added the bias term, and then the model fit almost perfectly. In the real world, the error range I got over the training and test data would probably be a sign of highly over fitting or incomplete data, but because this is in an academic setting I think I just found the basis functions that you used."
      ],
      "metadata": {
        "id": "Gl3QDnQOo-8V"
      }
    },
    {
      "cell_type": "code",
      "source": [
        "import numpy as np\n",
        "import csv\n",
        "import matplotlib.pyplot as plt\n",
        "\n",
        "with open(\"Assignment1_Q2_Data.csv\", 'r') as file:\n",
        "\n",
        "  csvreader = csv.reader(file)\n",
        "  categories=next(csvreader)\n",
        "  \n",
        "  i=0\n",
        "  houseDataTrain=[]\n",
        "  houseDataTest=[]\n",
        "  priceDataTrain=[]\n",
        "  priceDataTest=[]\n",
        "  \n",
        "  for row in csvreader:\n",
        "\n",
        "    houseToAppend=[float(elm) for elm in row[1:-1]]\n",
        "    priceToAppend=[float(row[-1])]\n",
        "    houseToAppend.append(float(1))\n",
        "\n",
        "    if(i%6!=0):\n",
        "      houseDataTrain.append(houseToAppend)\n",
        "      priceDataTrain.append(priceToAppend)\n",
        "    else:\n",
        "      houseDataTest.append(houseToAppend)\n",
        "      priceDataTest.append(priceToAppend)\n",
        "\n",
        "    i+=1\n",
        "\n",
        "  houseDataTrain=np.array(houseDataTrain)\n",
        "  priceDataTrain=np.array(priceDataTrain)\n",
        "  houseDataTest=np.array(houseDataTest)\n",
        "  priceDataTest=np.array(priceDataTest)\n",
        "  \n",
        "\n",
        "  #calulate the transpose once and save it because it's used twice for the normal equation\n",
        "  houseDataTrainT=np.transpose(houseDataTrain)\n",
        "\n",
        "  #big ugly normal equation written out in python\n",
        "  theta= np.dot(np.dot(np.linalg.inv(np.dot(houseDataTrainT,houseDataTrain)),houseDataTrainT),priceDataTrain)\n",
        "\n",
        "  #calculates the prediction for the y test values based on the model\n",
        "  priceTrainPred=np.dot(houseDataTrain,theta)\n",
        "\n",
        "  avg=np.array([sum(houseDataTrain[:,i]) for i in range(len(houseDataTrain[0]))])\n",
        "  avg=avg/len(houseDataTrain)\n",
        "  \n",
        "  \n",
        "  \n",
        "  squareError=0\n",
        "  percentError=0\n",
        "\n",
        "\n",
        "\n",
        "  for (y,yP) in zip(priceDataTrain,priceTrainPred):\n",
        "    squareError= squareError + ((yP-y)**2)\n",
        "    percentError= percentError+ abs((yP-y)/y)\n",
        "\n",
        "  print('The mean Square error for the training data is', (squareError/len(priceDataTrain))[0])\n",
        "  print('The mean Percentage error for the training data is', (percentError/len(priceDataTrain))[0]*100,'%')\n",
        "\n",
        "\n",
        "  squareError=0\n",
        "  percentError=0\n",
        "\n",
        "\n",
        "\n",
        "\n",
        "  priceTestPred=np.dot(houseDataTest,theta)\n",
        "\n",
        "\n",
        "  for (y,yP) in zip(priceDataTest,priceTestPred):\n",
        "    squareError= squareError + ((yP-y)**2)\n",
        "    percentError= percentError+ abs((yP-y)/y)\n",
        "\n",
        "  print('The Mean Square error for the test data is', (squareError/len(priceDataTrain))[0])\n",
        "  print('The Mean Percentage error for the test data is', (percentError/len(priceDataTrain))[0]*100,'%')\n",
        "\n",
        "  importance =np.multiply(theta.T,avg)\n",
        "\n",
        "  for (i,cat) in zip(importance.T[:-1],categories[1:-1]):\n",
        "    print('The average effect of' , cat, 'on the house price was', i[0])\n"
      ],
      "metadata": {
        "colab": {
          "base_uri": "https://localhost:8080/"
        },
        "id": "LKPeEYFylV49",
        "outputId": "9f279bac-c5f1-410a-8aad-8e9699cea384"
      },
      "execution_count": 165,
      "outputs": [
        {
          "output_type": "stream",
          "name": "stdout",
          "text": [
            "The mean Square error for the training data is 8.726097107657637\n",
            "The mean Percentage error for the training data is 6.719407162524515 %\n",
            "The Mean Square error for the test data is 4.066317939119264\n",
            "The Mean Percentage error for the test data is 2.330476647123926 %\n",
            "The average effect of Local Price on the house price was 4.4303088956928\n",
            "The average effect of Bathrooms on the house price was 9.666789224914487\n",
            "The average effect of Land Area on the house price was 2.3762773667756947\n",
            "The average effect of Living area on the house price was 22.8244794310926\n",
            "The average effect of # Garages on the house price was 3.6239908486745005\n",
            "The average effect of # Rooms on the house price was -3.2632167063667112\n",
            "The average effect of # Bedrooms on the house price was -2.9558211801623724\n",
            "The average effect of Age of home on the house price was -1.7061254059582192\n",
            "The average effect of Construction type on the house price was 2.175433360005153\n",
            "The average effect of Architecture type on the house price was 1.266941284917093\n",
            "The average effect of # Fire places on the house price was 1.2267262097865832\n"
          ]
        }
      ]
    },
    {
      "cell_type": "markdown",
      "source": [
        "For this Section I took every 6th element from the training data and used it as a test set. The average least square error is given in the output for the code segment.\n",
        "\n",
        "The most important feature in determining the final price of the house was seemingly the living area. I calculated this by take the average value of the living area and multipling it by its corresponding weight in theta. This gives the average ammount that the feature contributes to the overall price. \n",
        "\n",
        "Using the same methodology I found that architecture type was the least important because it had the lowest absolute value."
      ],
      "metadata": {
        "id": "iyCgfD06tzWT"
      }
    },
    {
      "cell_type": "code",
      "source": [
        "import numpy as np\n",
        "import matplotlib.pyplot as plt\n",
        "import math\n",
        "\n",
        "def weightMat(point, X): \n",
        "    \n",
        "  weights= np.eye(len(X))\n",
        "  for i in range(len(X)):\n",
        "    weights[i][i]=\n",
        "\n",
        "    \n",
        "\n",
        "x_train= np.load('x_train.npy')\n",
        "y_train= np.load('y_train.npy')\n",
        "\n",
        "\n",
        "\n",
        "#load the test data\n",
        "x_test=np.load('x_test.npy')\n",
        "y_test=np.load('y_test.npy')\n",
        "\n",
        "\n",
        "x_train_biased=np.append(x_train,np.ones((len(x_train),1)),axis=1)\n",
        "x_test_biased=np.append(x_test,np.ones((len(x_test),1)),axis=1)\n",
        "\n",
        "x_train_trans=np.transpose(x_train_biased)\n",
        "\n",
        "y_test_pred=[]\n",
        "\n",
        "for querry in x_test_biased:\n",
        "  weights=weightMat(querry,x_train_biased)\n",
        "\n",
        "  \n",
        "\n",
        "  theta = np.linalg.inv(np.dot(np.dot(x_train_biased.T,weights),x_train_biased))\n",
        "\n",
        "  theta3=np.dot(weights,y_train)\n",
        "\n",
        "  theta2=np.dot(x_train_biased.T,theta3)\n",
        "\n",
        "  theta = np.dot(theta,theta2)\n",
        "\n",
        "\n",
        "  y_test_pred.append(np.dot(theta,querry))\n",
        "\n",
        "\n",
        "\n",
        "print(np.array(y_test_pred).shape)\n",
        "\n",
        "plt.plot(x_test,y_test_pred,'*')\n",
        "\n",
        "plt.plot(x_test,y_test,'*')\n",
        "\n",
        "plt.show()\n",
        "\n",
        "\n",
        "  \n",
        "\n",
        "\n",
        "\n",
        "\n",
        "\n",
        "\n"
      ],
      "metadata": {
        "colab": {
          "base_uri": "https://localhost:8080/",
          "height": 269
        },
        "id": "48PpmkVpXy3c",
        "outputId": "0e596d69-f0d0-4cdb-b1c7-f1c17c809177"
      },
      "execution_count": 134,
      "outputs": [
        {
          "output_type": "error",
          "ename": "ValueError",
          "evalue": "ignored",
          "traceback": [
            "\u001b[0;31m---------------------------------------------------------------------------\u001b[0m",
            "\u001b[0;31mValueError\u001b[0m                                Traceback (most recent call last)",
            "\u001b[0;32m<ipython-input-134-cd8615fc2f40>\u001b[0m in \u001b[0;36m<module>\u001b[0;34m\u001b[0m\n\u001b[1;32m     50\u001b[0m   \u001b[0mtheta3\u001b[0m\u001b[0;34m=\u001b[0m\u001b[0mnp\u001b[0m\u001b[0;34m.\u001b[0m\u001b[0mdot\u001b[0m\u001b[0;34m(\u001b[0m\u001b[0mweights\u001b[0m\u001b[0;34m,\u001b[0m\u001b[0my_train\u001b[0m\u001b[0;34m)\u001b[0m\u001b[0;34m\u001b[0m\u001b[0;34m\u001b[0m\u001b[0m\n\u001b[1;32m     51\u001b[0m \u001b[0;34m\u001b[0m\u001b[0m\n\u001b[0;32m---> 52\u001b[0;31m   \u001b[0mtheta2\u001b[0m\u001b[0;34m=\u001b[0m\u001b[0mnp\u001b[0m\u001b[0;34m.\u001b[0m\u001b[0mdot\u001b[0m\u001b[0;34m(\u001b[0m\u001b[0mx_train_biased\u001b[0m\u001b[0;34m.\u001b[0m\u001b[0mT\u001b[0m\u001b[0;34m,\u001b[0m\u001b[0mtheta3\u001b[0m\u001b[0;34m)\u001b[0m\u001b[0;34m\u001b[0m\u001b[0;34m\u001b[0m\u001b[0m\n\u001b[0m\u001b[1;32m     53\u001b[0m \u001b[0;34m\u001b[0m\u001b[0m\n\u001b[1;32m     54\u001b[0m   \u001b[0mtheta\u001b[0m \u001b[0;34m=\u001b[0m \u001b[0mnp\u001b[0m\u001b[0;34m.\u001b[0m\u001b[0mdot\u001b[0m\u001b[0;34m(\u001b[0m\u001b[0mtheta\u001b[0m\u001b[0;34m,\u001b[0m\u001b[0mtheta2\u001b[0m\u001b[0;34m)\u001b[0m\u001b[0;34m\u001b[0m\u001b[0;34m\u001b[0m\u001b[0m\n",
            "\u001b[0;32m<__array_function__ internals>\u001b[0m in \u001b[0;36mdot\u001b[0;34m(*args, **kwargs)\u001b[0m\n",
            "\u001b[0;31mValueError\u001b[0m: shapes (2,100) and (1,100) not aligned: 100 (dim 1) != 1 (dim 0)"
          ]
        }
      ]
    },
    {
      "cell_type": "markdown",
      "source": [
        "You do not need any basis functions when using a locally weighted approach\n",
        "\n",
        "In this implementation the values of theta have to be re calculated for every time the model is used."
      ],
      "metadata": {
        "id": "5ALq_GPFvdG_"
      }
    }
  ]
}