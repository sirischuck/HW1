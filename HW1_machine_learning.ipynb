{
  "nbformat": 4,
  "nbformat_minor": 0,
  "metadata": {
    "colab": {
      "provenance": [],
      "collapsed_sections": [],
      "authorship_tag": "ABX9TyMvgdHZtt7VJkU5mlHIYhZ/",
      "include_colab_link": true
    },
    "kernelspec": {
      "name": "python3",
      "display_name": "Python 3"
    },
    "language_info": {
      "name": "python"
    }
  },
  "cells": [
    {
      "cell_type": "markdown",
      "metadata": {
        "id": "view-in-github",
        "colab_type": "text"
      },
      "source": [
        "<a href=\"https://colab.research.google.com/github/sirischuck/HW1/blob/main/HW1_machine_learning.ipynb\" target=\"_parent\"><img src=\"https://colab.research.google.com/assets/colab-badge.svg\" alt=\"Open In Colab\"/></a>"
      ]
    },
    {
      "cell_type": "markdown",
      "source": [],
      "metadata": {
        "id": "Ild22JeFlogg"
      }
    },
    {
      "cell_type": "code",
      "execution_count": null,
      "metadata": {
        "id": "3NNptVF_iini",
        "colab": {
          "base_uri": "https://localhost:8080/",
          "height": 565
        },
        "outputId": "bb7f38b4-6baf-4f94-c827-68a5ea18f2dc"
      },
      "outputs": [
        {
          "output_type": "display_data",
          "data": {
            "text/plain": [
              "<Figure size 432x288 with 1 Axes>"
            ],
            "image/png": "[encoded data removed]"
          },
          "metadata": {
            "needs_background": "light"
          }
        },
        {
          "output_type": "stream",
          "name": "stdout",
          "text": [
            "(6,)\n",
            "The MSE over the training data is 2.747798860642571e-26\n"
          ]
        },
        {
          "output_type": "display_data",
          "data": {
            "text/plain": [
              "<Figure size 432x288 with 1 Axes>"
            ],
            "image/png": "[encoded data removed]"
          },
          "metadata": {
            "needs_background": "light"
          }
        },
        {
          "output_type": "stream",
          "name": "stdout",
          "text": [
            "The MSE over the test data is 3.235585380752034e-26\n"
          ]
        }
      ],
      "source": [
        "import numpy as np\n",
        "import time\n",
        "import matplotlib.pyplot as plt\n",
        "\n",
        "\n",
        "\n",
        "x_train= np.load('/content/drive/MyDrive/x_train.npy')\n",
        "y_train= np.load('/content/drive/MyDrive/y_train.npy')\n",
        "\n",
        "\n",
        "\n",
        "#passes the training data through the basis functions x,x^2...x^5\n",
        "xTrainBasis = np.array([[x**i for i in range(0,6)] for x in x_train[:,0]])\n",
        "\n",
        "\n",
        "#calulate the transpose once and save it because it's used twice for the normal equation\n",
        "xTrainBasisT=np.transpose(xTrainBasis)\n",
        "\n",
        "#big ugly normal equation written out in python\n",
        "theta= np.dot(np.dot(np.linalg.inv(np.dot(xTrainBasisT,xTrainBasis)),xTrainBasisT),y_train)\n",
        "\n",
        "#calculates the prediction for the y test values based on the model\n",
        "yTrainPred=np.dot(xTrainBasis,theta)\n",
        "\n",
        "#plot the prediction and the actual test data\n",
        "plt.plot(x_train,y_train, 'y*', markersize=9)\n",
        "plt.plot(x_train,yTrainPred,'b.')\n",
        "plt.show()\n",
        "\n",
        "\n",
        "#calculate and show the MSE between the training data and the model\n",
        "error=0\n",
        "for (yG,y) in zip(y_train,yTrainPred):\n",
        "  error= error + (yG-y)**2\n",
        "print('The MSE over the training data is', error/len(yTrainPred))\n",
        "\n",
        "\n",
        "#load the test data\n",
        "x_test=np.load('/content/drive/MyDrive/x_test.npy')\n",
        "y_test=np.load('/content/drive/MyDrive/y_test.npy')\n",
        "\n",
        "\n",
        "#generate the test predictions\n",
        "yTestPred=np.array([np.polyval(np.flipud(theta), x) for x in x_test])\n",
        "\n",
        "#plot the test predictions and actual test data\n",
        "plt.plot(x_test,y_test,'y^', markersize=8)\n",
        "plt.plot(x_test,yTestPred,'b.')\n",
        "plt.show()\n",
        "\n",
        "#calculate the MSE between the training data and the model\n",
        "error=0\n",
        "for (y,yP) in zip(y_test,yTestPred):\n",
        "  error= error + (yP-y)**2\n",
        "print('The MSE over the test data is', error[0]/len(yTestPred))\n",
        "\n",
        "\n",
        "\n",
        "\n",
        "\n",
        " "
      ]
    },
    {
      "cell_type": "code",
      "source": [
        "import numpy as np\n",
        "import csv\n",
        "import matplotlib.pyplot as plt\n",
        "\n",
        "with open(\"/content/drive/MyDrive/Assignment1_Q2_Data.csv\", 'r') as file:\n",
        "\n",
        "  csvreader = csv.reader(file)\n",
        "  next(csvreader)\n",
        "  \n",
        "  i=0\n",
        "  houseDataTrain=[]\n",
        "  houseDataTest=[]\n",
        "  priceDataTrain=[]\n",
        "  priceDataTest=[]\n",
        "  \n",
        "  for row in csvreader:\n",
        "\n",
        "    houseToAppend=[float(elm) for elm in row[1:-1]]\n",
        "    priceToAppend=[float(row[-1])]\n",
        "    houseToAppend.append(float(1))\n",
        "\n",
        "    if(i%2!=0):\n",
        "      houseDataTrain.append(houseToAppend)\n",
        "      priceDataTrain.append(priceToAppend)\n",
        "    else:\n",
        "      houseDataTest.append(houseToAppend)\n",
        "      priceDataTest.append(priceToAppend)\n",
        "\n",
        "    i+=1\n",
        "\n",
        "  houseDataTrain=np.array(houseDataTrain)\n",
        "  priceDataTrain=np.array(priceDataTrain)\n",
        "  houseDataTest=np.array(houseDataTest)\n",
        "  priceDataTest=np.array(priceDataTest)\n",
        "  \n",
        "\n",
        "  #calulate the transpose once and save it because it's used twice for the normal equation\n",
        "  houseDataTrainT=np.transpose(houseDataTrain)\n",
        "\n",
        "  #big ugly normal equation written out in python\n",
        "  theta= np.dot(np.dot(np.linalg.inv(np.dot(houseDataTrainT,houseDataTrain)),houseDataTrainT),priceDataTrain)\n",
        "\n",
        "  #calculates the prediction for the y test values based on the model\n",
        "  priceTrainPred=np.dot(houseDataTrain,theta)\n",
        "\n",
        "  avg=np.array([sum(houseDataTrain[:,i]) for i in range(len(houseDataTrain[0]))])\n",
        "  avg=avg/len(houseDataTrain)\n",
        "  #print (avg)\n",
        "  \n",
        "  squareError=0\n",
        "  percentError=0\n",
        "\n",
        "\n",
        "\n",
        "  for (y,yP) in zip(priceDataTrain,priceTrainPred):\n",
        "    squareError= squareError + abs((yP-y))\n",
        "    percentError= percentError+ ((yP-y)/y)\n",
        "\n",
        "  print(squareError/len(priceDataTrain))\n",
        "  print(percentError/len(priceDataTrain))\n",
        "\n",
        "\n",
        "  squareError=0\n",
        "  percentError=0\n",
        "\n",
        "  print(avg*theta )\n",
        "\n",
        "\n",
        "  priceTestPred=np.dot(houseDataTest,theta)\n",
        "\n",
        "\n",
        "  for (y,yP) in zip(priceDataTest,priceTestPred):\n",
        "    squareError= squareError + abs((yP-y))\n",
        "    percentError= percentError+ ((yP-y)/y)\n",
        "\n",
        "  print(squareError/len(priceDataTrain))\n",
        "  print(percentError/len(priceDataTrain))\n",
        "\n"
      ],
      "metadata": {
        "colab": {
          "base_uri": "https://localhost:8080/"
        },
        "id": "LKPeEYFylV49",
        "outputId": "a3d704f1-7be0-461c-dc93-590145526f23"
      },
      "execution_count": 135,
      "outputs": [
        {
          "output_type": "stream",
          "name": "stdout",
          "text": [
            "[1.313378]\n",
            "[0.00122913]\n",
            "[7.59264799]\n",
            "[0.01046505]\n"
          ]
        }
      ]
    },
    {
      "cell_type": "code",
      "source": [
        "import numpy as np\n",
        "import matplotlib.pyplot as plt\n",
        "import math\n",
        "\n",
        "def weightMat(point, X): \n",
        "    \n",
        "  # tau --> bandwidth\n",
        "  # X --> Training data.\n",
        "  # point --> the x where we want to make the prediction.\n",
        "    tau=.5\n",
        "  # m is the No of training examples .\n",
        "    m = X.shape[0] \n",
        "    \n",
        "  # Initialising W as an identity matrix.\n",
        "    w = np.mat(np.eye(m)) \n",
        "    \n",
        "  # Calculating weights for all training examples [x(i)'s].\n",
        "    for i in range(m): \n",
        "        xi = X[i] \n",
        "        d = (-2 * tau * tau) \n",
        "        w[i, i] = np.exp(np.dot((xi-point), (xi-point).T)/d) \n",
        "        \n",
        "    return w\n",
        "\n",
        "\n",
        "x_train= np.load('x_train.npy')\n",
        "y_train= np.load('y_train.npy')\n",
        "\n",
        "\n",
        "\n",
        "#load the test data\n",
        "x_test=np.load('x_test.npy')\n",
        "y_test=np.load('y_test.npy')\n",
        "\n",
        "\n",
        "x_train_biased=np.append(x_train,np.ones((len(x_train),1)),axis=1)\n",
        "x_test_biased=np.append(x_test,np.ones((len(x_test),1)),axis=1)\n",
        "\n",
        "x_train_trans=np.transpose(x_train_biased)\n",
        "\n",
        "y_test_pred=[]\n",
        "\n",
        "for querry in x_test_biased:\n",
        "  weights=weightMat(querry,x_train_biased)\n",
        "\n",
        "  \n",
        "\n",
        "  theta = np.linalg.inv(np.dot(np.dot(x_train_biased.T,weights),x_train_biased))\n",
        "\n",
        "  theta3=np.dot(weights,y_train)\n",
        "\n",
        "  theta2=np.dot(x_train_biased.T,theta3)\n",
        "\n",
        "  theta = np.dot(theta,theta2)\n",
        "\n",
        "\n",
        "  y_test_pred.append(np.dot(theta,querry))\n",
        "\n",
        "\n",
        "\n",
        "print(np.array(y_test_pred).shape)\n",
        "\n",
        "plt.plot(x_test,y_test_pred,'*')\n",
        "\n",
        "plt.plot(x_test,y_test,'*')\n",
        "\n",
        "plt.show()\n",
        "\n",
        "\n",
        "  \n",
        "\n",
        "\n",
        "\n",
        "\n",
        "\n",
        "\n"
      ],
      "metadata": {
        "colab": {
          "base_uri": "https://localhost:8080/",
          "height": 269
        },
        "id": "48PpmkVpXy3c",
        "outputId": "0e596d69-f0d0-4cdb-b1c7-f1c17c809177"
      },
      "execution_count": 134,
      "outputs": [
        {
          "output_type": "error",
          "ename": "ValueError",
          "evalue": "ignored",
          "traceback": [
            "\u001b[0;31m---------------------------------------------------------------------------\u001b[0m",
            "\u001b[0;31mValueError\u001b[0m                                Traceback (most recent call last)",
            "\u001b[0;32m<ipython-input-134-cd8615fc2f40>\u001b[0m in \u001b[0;36m<module>\u001b[0;34m\u001b[0m\n\u001b[1;32m     50\u001b[0m   \u001b[0mtheta3\u001b[0m\u001b[0;34m=\u001b[0m\u001b[0mnp\u001b[0m\u001b[0;34m.\u001b[0m\u001b[0mdot\u001b[0m\u001b[0;34m(\u001b[0m\u001b[0mweights\u001b[0m\u001b[0;34m,\u001b[0m\u001b[0my_train\u001b[0m\u001b[0;34m)\u001b[0m\u001b[0;34m\u001b[0m\u001b[0;34m\u001b[0m\u001b[0m\n\u001b[1;32m     51\u001b[0m \u001b[0;34m\u001b[0m\u001b[0m\n\u001b[0;32m---> 52\u001b[0;31m   \u001b[0mtheta2\u001b[0m\u001b[0;34m=\u001b[0m\u001b[0mnp\u001b[0m\u001b[0;34m.\u001b[0m\u001b[0mdot\u001b[0m\u001b[0;34m(\u001b[0m\u001b[0mx_train_biased\u001b[0m\u001b[0;34m.\u001b[0m\u001b[0mT\u001b[0m\u001b[0;34m,\u001b[0m\u001b[0mtheta3\u001b[0m\u001b[0;34m)\u001b[0m\u001b[0;34m\u001b[0m\u001b[0;34m\u001b[0m\u001b[0m\n\u001b[0m\u001b[1;32m     53\u001b[0m \u001b[0;34m\u001b[0m\u001b[0m\n\u001b[1;32m     54\u001b[0m   \u001b[0mtheta\u001b[0m \u001b[0;34m=\u001b[0m \u001b[0mnp\u001b[0m\u001b[0;34m.\u001b[0m\u001b[0mdot\u001b[0m\u001b[0;34m(\u001b[0m\u001b[0mtheta\u001b[0m\u001b[0;34m,\u001b[0m\u001b[0mtheta2\u001b[0m\u001b[0;34m)\u001b[0m\u001b[0;34m\u001b[0m\u001b[0;34m\u001b[0m\u001b[0m\n",
            "\u001b[0;32m<__array_function__ internals>\u001b[0m in \u001b[0;36mdot\u001b[0;34m(*args, **kwargs)\u001b[0m\n",
            "\u001b[0;31mValueError\u001b[0m: shapes (2,100) and (1,100) not aligned: 100 (dim 1) != 1 (dim 0)"
          ]
        }
      ]
    },
    {
      "cell_type": "code",
      "source": [
        "import numpy as np\n",
        "import matplotlib.pyplot as plt\n",
        "import math\n",
        "\n",
        "\n",
        "def wm(point, X, tau): \n",
        "    \n",
        "  # tau --> bandwidth\n",
        "  # X --> Training data.\n",
        "  # point --> the x where we want to make the prediction.\n",
        "    \n",
        "  # m is the No of training examples .\n",
        "    m = X.shape[0] \n",
        "    \n",
        "  # Initialising W as an identity matrix.\n",
        "    w = np.mat(np.eye(m)) \n",
        "    \n",
        "  # Calculating weights for all training examples [x(i)'s].\n",
        "    for i in range(m): \n",
        "        xi = X[i] \n",
        "        d = (-2 * tau * tau) \n",
        "        w[i, i] = np.exp(np.dot((xi-point), (xi-point).T)/d) \n",
        "        \n",
        "    return w\n",
        "\n",
        "\n",
        "def predict(X, y, point, tau): \n",
        "    \n",
        "   # m = number of training examples. \n",
        "    m = X.shape[0] \n",
        "    \n",
        "   # Appending a cloumn of ones in X to add the bias term.\n",
        "   ## # Just one parameter: theta, that's why adding a column of ones        #### to X and also adding a 1 for the point where we want to          #### predict. \n",
        "    X_ = np.append(X, np.ones(m).reshape(m,1), axis=1) \n",
        "    \n",
        "   # point is the x where we want to make the prediction. \n",
        "    point_ = np.array([point, 1]) \n",
        "    \n",
        "   # Calculating the weight matrix using the wm function we wrote      #  # earlier. \n",
        "    w = wm(point_, X_, tau) \n",
        "\n",
        "    y=np.reshape(y,(100,1))\n",
        "\n",
        "  # Calculating parameter theta using the formula.\n",
        "    theta = np.linalg.pinv(X_.T*(w * X_))*(X_.T*(w * y)) \n",
        "    \n",
        "  # Calculating predictions.  \n",
        "    pred = np.dot(point_, theta) \n",
        "    \n",
        "   # Returning the theta and predictions \n",
        "    return theta, pred\n",
        "\n",
        "  \n",
        "x_train= np.load('x_train.npy')\n",
        "y_train= np.load('y_train.npy')\n",
        "\n",
        "\n",
        "#load the test data\n",
        "x_test=np.load('x_test.npy')\n",
        "y_test=np.load('y_test.npy')\n",
        "\n",
        "y_pred=[]\n",
        "\n",
        "\n",
        "for x in x_test:\n",
        "  y_pred.append(predict(x_train,y_train,x,.2)[1])\n",
        "\n",
        "\n",
        "plt.plot(x_test,y_test, '*')\n",
        "\n",
        "y_pred=np.reshape(y_pred,(100))\n",
        "\n",
        "\n",
        "\n",
        "plt.plot(x_test,y_pred,'*')\n",
        "\n"
      ],
      "metadata": {
        "colab": {
          "base_uri": "https://localhost:8080/",
          "height": 320
        },
        "id": "jdqjnbd2WQN7",
        "outputId": "9812d7d1-0159-47d1-cdd7-25553d01a53a"
      },
      "execution_count": 110,
      "outputs": [
        {
          "output_type": "stream",
          "name": "stderr",
          "text": [
            "/usr/local/lib/python3.7/dist-packages/ipykernel_launcher.py:37: VisibleDeprecationWarning: Creating an ndarray from ragged nested sequences (which is a list-or-tuple of lists-or-tuples-or ndarrays with different lengths or shapes) is deprecated. If you meant to do this, you must specify 'dtype=object' when creating the ndarray.\n"
          ]
        },
        {
          "output_type": "execute_result",
          "data": {
            "text/plain": [
              "[<matplotlib.lines.Line2D at 0x7fbfe58a9110>]"
            ]
          },
          "metadata": {},
          "execution_count": 110
        },
        {
          "output_type": "display_data",
          "data": {
            "text/plain": [
              "<Figure size 432x288 with 1 Axes>"
            ],
            "image/png": "[encoded data removed]"
          },
          "metadata": {
            "needs_background": "light"
          }
        }
      ]
    }
  ]
}